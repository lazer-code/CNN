{
 "cells": [
  {
   "cell_type": "markdown",
   "id": "b62369a46b90d85a",
   "metadata": {},
   "source": [
    "## Imports"
   ]
  },
  {
   "cell_type": "code",
   "execution_count": 9,
   "id": "548a154f74c6eb3d",
   "metadata": {
    "ExecuteTime": {
     "end_time": "2025-03-31T08:40:03.486552Z",
     "start_time": "2025-03-31T08:40:03.477053Z"
    }
   },
   "outputs": [],
   "source": [
    "import os, shutil, random, cv2, kaggle\n",
    "import pandas as pd\n",
    "from pathlib import Path"
   ]
  },
  {
   "cell_type": "markdown",
   "id": "6027d7f0d54e02c0",
   "metadata": {},
   "source": [
    "## Downloading database"
   ]
  },
  {
   "cell_type": "code",
   "execution_count": 10,
   "id": "initial_id",
   "metadata": {
    "ExecuteTime": {
     "end_time": "2025-03-31T08:47:33.394376Z",
     "start_time": "2025-03-31T08:40:03.491552Z"
    },
    "collapsed": true
   },
   "outputs": [],
   "source": [
    "if not os.path.exists(\"Aircrafts\"):\n",
    "    kaggle.api.dataset_download_files('a2015003713/militaryaircraftdetectiondataset', path='Aircrafts', unzip=True)"
   ]
  },
  {
   "cell_type": "markdown",
   "id": "a331dd58b23deb93",
   "metadata": {},
   "source": [
    "## Pathes definitions"
   ]
  },
  {
   "cell_type": "code",
   "execution_count": 11,
   "id": "94e7bd7274bb08d6",
   "metadata": {
    "ExecuteTime": {
     "end_time": "2025-03-31T08:47:33.440876Z",
     "start_time": "2025-03-31T08:47:33.426876Z"
    }
   },
   "outputs": [],
   "source": [
    "base_dir = Path(\"Dataset\")\n",
    "dataset_dir = Path(\"Aircrafts\") / \"dataset\"\n",
    "train_dir = base_dir / \"train\"\n",
    "valid_dir = base_dir / \"valid\"\n",
    "test_dir = base_dir / \"test\""
   ]
  },
  {
   "cell_type": "markdown",
   "id": "2c313b3882ff78b9",
   "metadata": {},
   "source": [
    "## Loading all images"
   ]
  },
  {
   "cell_type": "code",
   "execution_count": 12,
   "id": "89c8e4b63e6f74ca",
   "metadata": {
    "ExecuteTime": {
     "end_time": "2025-03-31T08:47:33.595846Z",
     "start_time": "2025-03-31T08:47:33.445376Z"
    }
   },
   "outputs": [],
   "source": [
    "images = list(dataset_dir.glob(\"*.jpg\"))"
   ]
  },
  {
   "cell_type": "markdown",
   "id": "46aa33cd62359b27",
   "metadata": {},
   "source": [
    "## Generating annotations"
   ]
  },
  {
   "cell_type": "code",
   "execution_count": 13,
   "id": "bad5f5928aa46fe1",
   "metadata": {
    "ExecuteTime": {
     "end_time": "2025-03-31T08:56:16.844914Z",
     "start_time": "2025-03-31T08:47:33.612846Z"
    }
   },
   "outputs": [],
   "source": [
    "current_id = 0\n",
    "class_mapping = {}\n",
    "for img in images:\n",
    "    csv_path = img.with_suffix(\".csv\")\n",
    "    if not csv_path.exists():\n",
    "        os.remove(img)\n",
    "        continue\n",
    "\n",
    "    df, im = pd.read_csv(csv_path), cv2.imread(str(img))\n",
    "    if im is None:\n",
    "        continue\n",
    "\n",
    "    h, w = im.shape[:2]\n",
    "    for _, row in df.iterrows():\n",
    "        if row['class'] not in class_mapping:\n",
    "            class_mapping[row['class']] = current_id\n",
    "            current_id += 1\n",
    "\n",
    "    annotations = [\n",
    "        f\"{class_mapping[row['class']]} \"\n",
    "        f\"{(row['xmin'] + row['xmax']) / (2 * w):.6f} {(row['ymin'] + row['ymax']) / (2 * h):.6f} \"\n",
    "        f\"{(row['xmax'] - row['xmin']) / w:.6f} {(row['ymax'] - row['ymin']) / h:.6f}\"\n",
    "        for _, row in df.iterrows()\n",
    "        ]\n",
    "\n",
    "    with open(img.with_suffix(\".txt\"), \"w\") as f:\n",
    "        f.write(\"\\n\".join(annotations))\n",
    "    os.remove(csv_path)"
   ]
  },
  {
   "cell_type": "markdown",
   "id": "f53be4335f358690",
   "metadata": {},
   "source": [
    "## Creating the new dataset folders"
   ]
  },
  {
   "cell_type": "code",
   "execution_count": 14,
   "id": "3a64f9169734c32f",
   "metadata": {
    "ExecuteTime": {
     "end_time": "2025-03-31T08:57:34.695999Z",
     "start_time": "2025-03-31T08:57:34.678499Z"
    }
   },
   "outputs": [],
   "source": [
    "(train_dir / \"images\").mkdir(parents=True, exist_ok=True)\n",
    "(train_dir / \"labels\").mkdir(parents=True, exist_ok=True)\n",
    "\n",
    "(valid_dir / \"images\").mkdir(parents=True, exist_ok=True)\n",
    "(valid_dir / \"labels\").mkdir(parents=True, exist_ok=True)\n",
    "\n",
    "(test_dir / \"images\").mkdir(parents=True, exist_ok=True)\n",
    "(test_dir / \"labels\").mkdir(parents=True, exist_ok=True)"
   ]
  },
  {
   "cell_type": "markdown",
   "id": "1002a41f59601157",
   "metadata": {},
   "source": [
    "## Generating .yaml file for YOLO"
   ]
  },
  {
   "cell_type": "code",
   "execution_count": 15,
   "id": "8c733e3cace1dd4c",
   "metadata": {
    "ExecuteTime": {
     "end_time": "2025-03-31T08:57:38.818996Z",
     "start_time": "2025-03-31T08:57:38.807997Z"
    }
   },
   "outputs": [],
   "source": [
    "with open(base_dir / \"data.yaml\", \"w\") as f:\n",
    "    f.write(f\"train: {'train/images'}\\nval: {'valid/images'}\\ntest: {'test/images'}\\n\")\n",
    "    f.write(f\"nc: {len(class_mapping)}\\nnames: {sorted(class_mapping, key=class_mapping.get)}\\n\")"
   ]
  },
  {
   "cell_type": "markdown",
   "id": "f7143efbbf32c70f",
   "metadata": {},
   "source": [
    "## Loading all images"
   ]
  },
  {
   "cell_type": "code",
   "execution_count": 16,
   "id": "daabe01272bb71e",
   "metadata": {
    "ExecuteTime": {
     "end_time": "2025-03-31T08:57:50.179853Z",
     "start_time": "2025-03-31T08:57:50.028854Z"
    }
   },
   "outputs": [],
   "source": [
    "images = list(dataset_dir.glob(\"*.jpg\"))"
   ]
  },
  {
   "cell_type": "markdown",
   "id": "52c4b25528b7d4f2",
   "metadata": {},
   "source": [
    "## Splitting the data into 80% train, 10% validation and 10% test"
   ]
  },
  {
   "cell_type": "code",
   "execution_count": 17,
   "id": "b0942e25dea0ca24",
   "metadata": {
    "ExecuteTime": {
     "end_time": "2025-03-31T08:57:51.869397Z",
     "start_time": "2025-03-31T08:57:51.851398Z"
    }
   },
   "outputs": [],
   "source": [
    "random.shuffle(images)\n",
    "splits = {\"train\": 0.8, \"valid\": 0.1, \"test\": 0.1}\n",
    "n = len(images)\n",
    "split_map = {\n",
    "    \"train\": images[:int(splits[\"train\"] * n)],\n",
    "    \"valid\": images[int(splits[\"train\"] * n):int((splits[\"train\"] + splits[\"valid\"]) * n)],\n",
    "    \"test\": images[int((splits[\"train\"] + splits[\"valid\"]) * n):]\n",
    "}"
   ]
  },
  {
   "cell_type": "markdown",
   "id": "8c54d45830b7ac6e",
   "metadata": {},
   "source": [
    "## Moving the images and annotations to the new dataset"
   ]
  },
  {
   "cell_type": "code",
   "execution_count": 18,
   "id": "8e4a4fd4fa37185e",
   "metadata": {
    "ExecuteTime": {
     "end_time": "2025-03-31T08:58:20.108996Z",
     "start_time": "2025-03-31T08:57:54.055628Z"
    }
   },
   "outputs": [],
   "source": [
    "for s, imgs in split_map.items():\n",
    "    for img in imgs:\n",
    "        shutil.copy(img, base_dir / s / \"images\" / img.name)\n",
    "        shutil.copy(img.with_suffix(\".txt\"), base_dir / s / \"labels\" / img.with_suffix(\".txt\").name)"
   ]
  },
  {
   "cell_type": "markdown",
   "id": "2cd4ebc6ae31c618",
   "metadata": {},
   "source": [
    "## Removing the old database"
   ]
  },
  {
   "cell_type": "code",
   "execution_count": 19,
   "id": "2394627f43db8cca",
   "metadata": {
    "ExecuteTime": {
     "end_time": "2025-03-31T08:58:28.230975Z",
     "start_time": "2025-03-31T08:58:20.112496Z"
    }
   },
   "outputs": [],
   "source": [
    "shutil.rmtree(\"Aircrafts\")"
   ]
  },
  {
   "cell_type": "code",
   "execution_count": 20,
   "id": "4cf6bbd9",
   "metadata": {},
   "outputs": [
    {
     "data": {
      "text/plain": [
       "{'Mi28': 0,\n",
       " 'UH60': 1,\n",
       " 'F16': 2,\n",
       " 'H6': 3,\n",
       " 'F18': 4,\n",
       " 'F22': 5,\n",
       " 'F35': 6,\n",
       " 'JAS39': 7,\n",
       " 'B52': 8,\n",
       " 'JH7': 9,\n",
       " 'KF21': 10,\n",
       " 'US2': 11,\n",
       " 'Be200': 12,\n",
       " 'EF2000': 13,\n",
       " 'C2': 14,\n",
       " 'P3': 15,\n",
       " 'CL415': 16,\n",
       " 'E2': 17,\n",
       " 'Rafale': 18,\n",
       " 'Mig31': 19,\n",
       " 'Su25': 20,\n",
       " 'XB70': 21,\n",
       " 'YF23': 22,\n",
       " 'Su57': 23,\n",
       " 'F15': 24,\n",
       " 'KC135': 25,\n",
       " 'An72': 26,\n",
       " 'An22': 27,\n",
       " 'B2': 28,\n",
       " 'An124': 29,\n",
       " 'Tu160': 30,\n",
       " 'C5': 31,\n",
       " 'J20': 32,\n",
       " 'B1': 33,\n",
       " 'C130': 34,\n",
       " 'A10': 35,\n",
       " 'V22': 36,\n",
       " 'C390': 37,\n",
       " 'F117': 38,\n",
       " 'WZ7': 39,\n",
       " 'E7': 40,\n",
       " 'CH47': 41,\n",
       " 'AH64': 42,\n",
       " 'Mi24': 43,\n",
       " 'U2': 44,\n",
       " 'AG600': 45,\n",
       " 'KJ600': 46,\n",
       " 'RQ4': 47,\n",
       " 'Tu22M': 48,\n",
       " 'SR71': 49,\n",
       " 'J10': 50,\n",
       " 'Mirage2000': 51,\n",
       " 'AV8B': 52,\n",
       " 'Tu95': 53,\n",
       " 'A400M': 54,\n",
       " 'MQ9': 55,\n",
       " 'F14': 56,\n",
       " 'Su34': 57,\n",
       " 'F4': 58,\n",
       " 'Mi8': 59,\n",
       " 'Mig29': 60,\n",
       " 'Z10': 61,\n",
       " 'JF17': 62,\n",
       " 'TB001': 63,\n",
       " 'KAAN': 64,\n",
       " 'Ka52': 65,\n",
       " 'Il76': 66,\n",
       " 'C17': 67,\n",
       " 'EMB314': 68,\n",
       " 'An225': 69,\n",
       " 'Y20': 70,\n",
       " 'Su24': 71,\n",
       " 'TB2': 72,\n",
       " 'Ka27': 73,\n",
       " 'Tornado': 74,\n",
       " 'Vulcan': 75,\n",
       " 'Z19': 76,\n",
       " 'V280': 77,\n",
       " 'Mi26': 78,\n",
       " 'J35': 79,\n",
       " 'B21': 80}"
      ]
     },
     "execution_count": 20,
     "metadata": {},
     "output_type": "execute_result"
    }
   ],
   "source": [
    "class_mapping"
   ]
  }
 ],
 "metadata": {
  "kernelspec": {
   "display_name": "Aircraft",
   "language": "python",
   "name": "python3"
  },
  "language_info": {
   "codemirror_mode": {
    "name": "ipython",
    "version": 3
   },
   "file_extension": ".py",
   "mimetype": "text/x-python",
   "name": "python",
   "nbconvert_exporter": "python",
   "pygments_lexer": "ipython3",
   "version": "3.10.16"
  }
 },
 "nbformat": 4,
 "nbformat_minor": 5
}
