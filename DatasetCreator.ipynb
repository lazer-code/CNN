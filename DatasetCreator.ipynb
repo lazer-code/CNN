{
 "cells": [
  {
   "cell_type": "markdown",
   "id": "b62369a46b90d85a",
   "metadata": {},
   "source": [
    "## Imports"
   ]
  },
  {
   "cell_type": "code",
   "execution_count": 15,
   "id": "548a154f74c6eb3d",
   "metadata": {
    "ExecuteTime": {
     "end_time": "2025-03-31T08:40:03.486552Z",
     "start_time": "2025-03-31T08:40:03.477053Z"
    }
   },
   "outputs": [],
   "source": [
    "import os, shutil, random, cv2, kaggle\n",
    "import pandas as pd\n",
    "from pathlib import Path"
   ]
  },
  {
   "cell_type": "markdown",
   "id": "6027d7f0d54e02c0",
   "metadata": {},
   "source": [
    "## Downloading database"
   ]
  },
  {
   "cell_type": "code",
   "execution_count": 16,
   "id": "initial_id",
   "metadata": {
    "ExecuteTime": {
     "end_time": "2025-03-31T08:47:33.394376Z",
     "start_time": "2025-03-31T08:40:03.491552Z"
    },
    "collapsed": true
   },
   "outputs": [],
   "source": [
    "if not os.path.exists(\"Aircrafts\"):\n",
    "    kaggle.api.dataset_download_files('a2015003713/militaryaircraftdetectiondataset', path='Aircrafts', unzip=True)"
   ]
  },
  {
   "cell_type": "markdown",
   "id": "a331dd58b23deb93",
   "metadata": {},
   "source": [
    "## Pathes definitions"
   ]
  },
  {
   "cell_type": "code",
   "execution_count": 17,
   "id": "94e7bd7274bb08d6",
   "metadata": {
    "ExecuteTime": {
     "end_time": "2025-03-31T08:47:33.440876Z",
     "start_time": "2025-03-31T08:47:33.426876Z"
    }
   },
   "outputs": [],
   "source": [
    "base_dir = Path(\"Dataset\")\n",
    "dataset_dir = Path(\"Aircrafts\") / \"dataset\"\n",
    "train_dir = base_dir / \"train\"\n",
    "valid_dir = base_dir / \"valid\"\n",
    "test_dir = base_dir / \"test\""
   ]
  },
  {
   "cell_type": "markdown",
   "id": "2c313b3882ff78b9",
   "metadata": {},
   "source": [
    "## Loading all images"
   ]
  },
  {
   "cell_type": "code",
   "execution_count": 18,
   "id": "89c8e4b63e6f74ca",
   "metadata": {
    "ExecuteTime": {
     "end_time": "2025-03-31T08:47:33.595846Z",
     "start_time": "2025-03-31T08:47:33.445376Z"
    }
   },
   "outputs": [],
   "source": [
    "images = list(Path(\"Aircrafts/dataset\").glob(\"*.jpg\"))"
   ]
  },
  {
   "cell_type": "markdown",
   "id": "46aa33cd62359b27",
   "metadata": {},
   "source": [
    "## Generating annotations"
   ]
  },
  {
   "cell_type": "code",
   "execution_count": null,
   "id": "631f1265",
   "metadata": {},
   "outputs": [],
   "source": [
    "correct = {'Mi8': }\n",
    "for img in images:\n",
    "    csv_path = img.with_suffix(\".csv\")\n",
    "    if not csv_path.exists():\n",
    "        os.remove(img)\n",
    "        continue\n",
    "\n",
    "    df, im = pd.read_csv(csv_path), cv2.imread(str(img))\n",
    "    if im is None:\n",
    "        continue\n",
    "\n",
    "    h, w = im.shape[:2]\n",
    "    for idx, row in df.iterrows():\n",
    "        craft_type = row['class'].replace('-', '')\n",
    "        if craft_type in ['Mi8', 'F18', 'Z10', 'KAAN', 'Il76', 'EMB314', 'V280', 'J36', 'J35', 'WZ9']:\n",
    "            if craft_type == 'F18':\n",
    "                df.loc[idx, 'class'] = 'F/A-18'\n",
    "\n",
    "            elif craft_type == 'Il76':\n",
    "                df.loc[idx, 'class'] = 'Il-76'\n",
    "            \n",
    "            else:\n",
    "                pass"
   ]
  },
  {
   "cell_type": "code",
   "execution_count": null,
   "id": "bad5f5928aa46fe1",
   "metadata": {
    "ExecuteTime": {
     "end_time": "2025-03-31T08:56:16.844914Z",
     "start_time": "2025-03-31T08:47:33.612846Z"
    }
   },
   "outputs": [
    {
     "name": "stdout",
     "output_type": "stream",
     "text": [
      "00032844ab679240fc03ecd27d29a6aa.jpg F/A-18\n"
     ]
    },
    {
     "ename": "KeyError",
     "evalue": "'F18'",
     "output_type": "error",
     "traceback": [
      "\u001b[1;31m---------------------------------------------------------------------------\u001b[0m",
      "\u001b[1;31mKeyError\u001b[0m                                  Traceback (most recent call last)",
      "Cell \u001b[1;32mIn[12], line 26\u001b[0m\n\u001b[0;32m     23\u001b[0m         class_mapping[row[\u001b[38;5;124m'\u001b[39m\u001b[38;5;124mclass\u001b[39m\u001b[38;5;124m'\u001b[39m]] \u001b[38;5;241m=\u001b[39m current_id\n\u001b[0;32m     24\u001b[0m         current_id \u001b[38;5;241m+\u001b[39m\u001b[38;5;241m=\u001b[39m \u001b[38;5;241m1\u001b[39m\n\u001b[1;32m---> 26\u001b[0m annotations \u001b[38;5;241m=\u001b[39m [\n\u001b[0;32m     27\u001b[0m     \u001b[38;5;124mf\u001b[39m\u001b[38;5;124m\"\u001b[39m\u001b[38;5;132;01m{\u001b[39;00mclass_mapping[row[\u001b[38;5;124m'\u001b[39m\u001b[38;5;124mclass\u001b[39m\u001b[38;5;124m'\u001b[39m]]\u001b[38;5;132;01m}\u001b[39;00m\u001b[38;5;124m \u001b[39m\u001b[38;5;124m\"\u001b[39m\n\u001b[0;32m     28\u001b[0m     \u001b[38;5;124mf\u001b[39m\u001b[38;5;124m\"\u001b[39m\u001b[38;5;132;01m{\u001b[39;00m(row[\u001b[38;5;124m'\u001b[39m\u001b[38;5;124mxmin\u001b[39m\u001b[38;5;124m'\u001b[39m]\u001b[38;5;250m \u001b[39m\u001b[38;5;241m+\u001b[39m\u001b[38;5;250m \u001b[39mrow[\u001b[38;5;124m'\u001b[39m\u001b[38;5;124mxmax\u001b[39m\u001b[38;5;124m'\u001b[39m])\u001b[38;5;250m \u001b[39m\u001b[38;5;241m/\u001b[39m\u001b[38;5;250m \u001b[39m(\u001b[38;5;241m2\u001b[39m\u001b[38;5;250m \u001b[39m\u001b[38;5;241m*\u001b[39m\u001b[38;5;250m \u001b[39mw)\u001b[38;5;132;01m:\u001b[39;00m\u001b[38;5;124m.6f\u001b[39m\u001b[38;5;132;01m}\u001b[39;00m\u001b[38;5;124m \u001b[39m\u001b[38;5;132;01m{\u001b[39;00m(row[\u001b[38;5;124m'\u001b[39m\u001b[38;5;124mymin\u001b[39m\u001b[38;5;124m'\u001b[39m]\u001b[38;5;250m \u001b[39m\u001b[38;5;241m+\u001b[39m\u001b[38;5;250m \u001b[39mrow[\u001b[38;5;124m'\u001b[39m\u001b[38;5;124mymax\u001b[39m\u001b[38;5;124m'\u001b[39m])\u001b[38;5;250m \u001b[39m\u001b[38;5;241m/\u001b[39m\u001b[38;5;250m \u001b[39m(\u001b[38;5;241m2\u001b[39m\u001b[38;5;250m \u001b[39m\u001b[38;5;241m*\u001b[39m\u001b[38;5;250m \u001b[39mh)\u001b[38;5;132;01m:\u001b[39;00m\u001b[38;5;124m.6f\u001b[39m\u001b[38;5;132;01m}\u001b[39;00m\u001b[38;5;124m \u001b[39m\u001b[38;5;124m\"\u001b[39m\n\u001b[0;32m     29\u001b[0m     \u001b[38;5;124mf\u001b[39m\u001b[38;5;124m\"\u001b[39m\u001b[38;5;132;01m{\u001b[39;00m(row[\u001b[38;5;124m'\u001b[39m\u001b[38;5;124mxmax\u001b[39m\u001b[38;5;124m'\u001b[39m]\u001b[38;5;250m \u001b[39m\u001b[38;5;241m-\u001b[39m\u001b[38;5;250m \u001b[39mrow[\u001b[38;5;124m'\u001b[39m\u001b[38;5;124mxmin\u001b[39m\u001b[38;5;124m'\u001b[39m])\u001b[38;5;250m \u001b[39m\u001b[38;5;241m/\u001b[39m\u001b[38;5;250m \u001b[39mw\u001b[38;5;132;01m:\u001b[39;00m\u001b[38;5;124m.6f\u001b[39m\u001b[38;5;132;01m}\u001b[39;00m\u001b[38;5;124m \u001b[39m\u001b[38;5;132;01m{\u001b[39;00m(row[\u001b[38;5;124m'\u001b[39m\u001b[38;5;124mymax\u001b[39m\u001b[38;5;124m'\u001b[39m]\u001b[38;5;250m \u001b[39m\u001b[38;5;241m-\u001b[39m\u001b[38;5;250m \u001b[39mrow[\u001b[38;5;124m'\u001b[39m\u001b[38;5;124mymin\u001b[39m\u001b[38;5;124m'\u001b[39m])\u001b[38;5;250m \u001b[39m\u001b[38;5;241m/\u001b[39m\u001b[38;5;250m \u001b[39mh\u001b[38;5;132;01m:\u001b[39;00m\u001b[38;5;124m.6f\u001b[39m\u001b[38;5;132;01m}\u001b[39;00m\u001b[38;5;124m\"\u001b[39m\n\u001b[0;32m     30\u001b[0m     \u001b[38;5;28;01mfor\u001b[39;00m _, row \u001b[38;5;129;01min\u001b[39;00m df\u001b[38;5;241m.\u001b[39miterrows()\n\u001b[0;32m     31\u001b[0m     ]\n\u001b[0;32m     33\u001b[0m \u001b[38;5;28;01mwith\u001b[39;00m \u001b[38;5;28mopen\u001b[39m(img\u001b[38;5;241m.\u001b[39mwith_suffix(\u001b[38;5;124m\"\u001b[39m\u001b[38;5;124m.txt\u001b[39m\u001b[38;5;124m\"\u001b[39m), \u001b[38;5;124m\"\u001b[39m\u001b[38;5;124mw\u001b[39m\u001b[38;5;124m\"\u001b[39m) \u001b[38;5;28;01mas\u001b[39;00m f:\n\u001b[0;32m     34\u001b[0m     f\u001b[38;5;241m.\u001b[39mwrite(\u001b[38;5;124m\"\u001b[39m\u001b[38;5;130;01m\\n\u001b[39;00m\u001b[38;5;124m\"\u001b[39m\u001b[38;5;241m.\u001b[39mjoin(annotations))\n",
      "Cell \u001b[1;32mIn[12], line 27\u001b[0m, in \u001b[0;36m<listcomp>\u001b[1;34m(.0)\u001b[0m\n\u001b[0;32m     23\u001b[0m         class_mapping[row[\u001b[38;5;124m'\u001b[39m\u001b[38;5;124mclass\u001b[39m\u001b[38;5;124m'\u001b[39m]] \u001b[38;5;241m=\u001b[39m current_id\n\u001b[0;32m     24\u001b[0m         current_id \u001b[38;5;241m+\u001b[39m\u001b[38;5;241m=\u001b[39m \u001b[38;5;241m1\u001b[39m\n\u001b[0;32m     26\u001b[0m annotations \u001b[38;5;241m=\u001b[39m [\n\u001b[1;32m---> 27\u001b[0m     \u001b[38;5;124mf\u001b[39m\u001b[38;5;124m\"\u001b[39m\u001b[38;5;132;01m{\u001b[39;00m\u001b[43mclass_mapping\u001b[49m\u001b[43m[\u001b[49m\u001b[43mrow\u001b[49m\u001b[43m[\u001b[49m\u001b[38;5;124;43m'\u001b[39;49m\u001b[38;5;124;43mclass\u001b[39;49m\u001b[38;5;124;43m'\u001b[39;49m\u001b[43m]\u001b[49m\u001b[43m]\u001b[49m\u001b[38;5;132;01m}\u001b[39;00m\u001b[38;5;124m \u001b[39m\u001b[38;5;124m\"\u001b[39m\n\u001b[0;32m     28\u001b[0m     \u001b[38;5;124mf\u001b[39m\u001b[38;5;124m\"\u001b[39m\u001b[38;5;132;01m{\u001b[39;00m(row[\u001b[38;5;124m'\u001b[39m\u001b[38;5;124mxmin\u001b[39m\u001b[38;5;124m'\u001b[39m]\u001b[38;5;250m \u001b[39m\u001b[38;5;241m+\u001b[39m\u001b[38;5;250m \u001b[39mrow[\u001b[38;5;124m'\u001b[39m\u001b[38;5;124mxmax\u001b[39m\u001b[38;5;124m'\u001b[39m])\u001b[38;5;250m \u001b[39m\u001b[38;5;241m/\u001b[39m\u001b[38;5;250m \u001b[39m(\u001b[38;5;241m2\u001b[39m\u001b[38;5;250m \u001b[39m\u001b[38;5;241m*\u001b[39m\u001b[38;5;250m \u001b[39mw)\u001b[38;5;132;01m:\u001b[39;00m\u001b[38;5;124m.6f\u001b[39m\u001b[38;5;132;01m}\u001b[39;00m\u001b[38;5;124m \u001b[39m\u001b[38;5;132;01m{\u001b[39;00m(row[\u001b[38;5;124m'\u001b[39m\u001b[38;5;124mymin\u001b[39m\u001b[38;5;124m'\u001b[39m]\u001b[38;5;250m \u001b[39m\u001b[38;5;241m+\u001b[39m\u001b[38;5;250m \u001b[39mrow[\u001b[38;5;124m'\u001b[39m\u001b[38;5;124mymax\u001b[39m\u001b[38;5;124m'\u001b[39m])\u001b[38;5;250m \u001b[39m\u001b[38;5;241m/\u001b[39m\u001b[38;5;250m \u001b[39m(\u001b[38;5;241m2\u001b[39m\u001b[38;5;250m \u001b[39m\u001b[38;5;241m*\u001b[39m\u001b[38;5;250m \u001b[39mh)\u001b[38;5;132;01m:\u001b[39;00m\u001b[38;5;124m.6f\u001b[39m\u001b[38;5;132;01m}\u001b[39;00m\u001b[38;5;124m \u001b[39m\u001b[38;5;124m\"\u001b[39m\n\u001b[0;32m     29\u001b[0m     \u001b[38;5;124mf\u001b[39m\u001b[38;5;124m\"\u001b[39m\u001b[38;5;132;01m{\u001b[39;00m(row[\u001b[38;5;124m'\u001b[39m\u001b[38;5;124mxmax\u001b[39m\u001b[38;5;124m'\u001b[39m]\u001b[38;5;250m \u001b[39m\u001b[38;5;241m-\u001b[39m\u001b[38;5;250m \u001b[39mrow[\u001b[38;5;124m'\u001b[39m\u001b[38;5;124mxmin\u001b[39m\u001b[38;5;124m'\u001b[39m])\u001b[38;5;250m \u001b[39m\u001b[38;5;241m/\u001b[39m\u001b[38;5;250m \u001b[39mw\u001b[38;5;132;01m:\u001b[39;00m\u001b[38;5;124m.6f\u001b[39m\u001b[38;5;132;01m}\u001b[39;00m\u001b[38;5;124m \u001b[39m\u001b[38;5;132;01m{\u001b[39;00m(row[\u001b[38;5;124m'\u001b[39m\u001b[38;5;124mymax\u001b[39m\u001b[38;5;124m'\u001b[39m]\u001b[38;5;250m \u001b[39m\u001b[38;5;241m-\u001b[39m\u001b[38;5;250m \u001b[39mrow[\u001b[38;5;124m'\u001b[39m\u001b[38;5;124mymin\u001b[39m\u001b[38;5;124m'\u001b[39m])\u001b[38;5;250m \u001b[39m\u001b[38;5;241m/\u001b[39m\u001b[38;5;250m \u001b[39mh\u001b[38;5;132;01m:\u001b[39;00m\u001b[38;5;124m.6f\u001b[39m\u001b[38;5;132;01m}\u001b[39;00m\u001b[38;5;124m\"\u001b[39m\n\u001b[0;32m     30\u001b[0m     \u001b[38;5;28;01mfor\u001b[39;00m _, row \u001b[38;5;129;01min\u001b[39;00m df\u001b[38;5;241m.\u001b[39miterrows()\n\u001b[0;32m     31\u001b[0m     ]\n\u001b[0;32m     33\u001b[0m \u001b[38;5;28;01mwith\u001b[39;00m \u001b[38;5;28mopen\u001b[39m(img\u001b[38;5;241m.\u001b[39mwith_suffix(\u001b[38;5;124m\"\u001b[39m\u001b[38;5;124m.txt\u001b[39m\u001b[38;5;124m\"\u001b[39m), \u001b[38;5;124m\"\u001b[39m\u001b[38;5;124mw\u001b[39m\u001b[38;5;124m\"\u001b[39m) \u001b[38;5;28;01mas\u001b[39;00m f:\n\u001b[0;32m     34\u001b[0m     f\u001b[38;5;241m.\u001b[39mwrite(\u001b[38;5;124m\"\u001b[39m\u001b[38;5;130;01m\\n\u001b[39;00m\u001b[38;5;124m\"\u001b[39m\u001b[38;5;241m.\u001b[39mjoin(annotations))\n",
      "\u001b[1;31mKeyError\u001b[0m: 'F18'"
     ]
    }
   ],
   "source": [
    "current_id = 0\n",
    "class_mapping = {}\n",
    "for img in images:\n",
    "    csv_path = img.with_suffix(\".csv\")\n",
    "    if not csv_path.exists():\n",
    "        os.remove(img)\n",
    "        continue\n",
    "\n",
    "    df, im = pd.read_csv(csv_path), cv2.imread(str(img))\n",
    "    if im is None:\n",
    "        continue\n",
    "\n",
    "    h, w = im.shape[:2]\n",
    "    for idx, row in df.iterrows():\n",
    "        craft_type = row['class'].replace('-', '')\n",
    "        if craft_type in ['Mi8', 'F18', 'Z10', 'KAAN', 'Il76', 'EMB314', 'V280', 'J36', 'J35', 'WZ9']:\n",
    "            if craft_type == 'F18':\n",
    "                df.loc[idx, 'class'] = 'F/A-18'\n",
    "\n",
    "            print(img.name, df.loc[idx, 'class'])\n",
    "\n",
    "        if df.loc[idx, 'class'] not in class_mapping:\n",
    "            class_mapping[df.loc[idx, 'class']] = current_id\n",
    "            current_id += 1\n",
    "\n",
    "    annotations = [\n",
    "        f\"{class_mapping[row['class']]} \"\n",
    "        f\"{(row['xmin'] + row['xmax']) / (2 * w):.6f} {(row['ymin'] + row['ymax']) / (2 * h):.6f} \"\n",
    "        f\"{(row['xmax'] - row['xmin']) / w:.6f} {(row['ymax'] - row['ymin']) / h:.6f}\"\n",
    "        for _, row in df.iterrows()\n",
    "    ]\n",
    "\n",
    "    with open(img.with_suffix(\".txt\"), \"w\") as f:\n",
    "        f.write(\"\\n\".join(annotations))\n",
    "    os.remove(csv_path)\n"
   ]
  },
  {
   "cell_type": "markdown",
   "id": "789e0519",
   "metadata": {},
   "source": [
    "## Creating the new folders"
   ]
  },
  {
   "cell_type": "code",
   "execution_count": null,
   "id": "f5ed94aa",
   "metadata": {},
   "outputs": [],
   "source": [
    "(train_dir / \"images\").mkdir(parents=True, exist_ok=True)\n",
    "(train_dir / \"labels\").mkdir(parents=True, exist_ok=True)\n",
    "\n",
    "(valid_dir / \"images\").mkdir(parents=True, exist_ok=True)\n",
    "(valid_dir / \"labels\").mkdir(parents=True, exist_ok=True)\n",
    "\n",
    "(test_dir / \"images\").mkdir(parents=True, exist_ok=True)\n",
    "(test_dir / \"labels\").mkdir(parents=True, exist_ok=True)\n"
   ]
  },
  {
   "cell_type": "markdown",
   "id": "1002a41f59601157",
   "metadata": {},
   "source": [
    "## Generating .yaml file for YOLO"
   ]
  },
  {
   "cell_type": "code",
   "execution_count": null,
   "id": "8c733e3cace1dd4c",
   "metadata": {
    "ExecuteTime": {
     "end_time": "2025-03-31T08:57:38.818996Z",
     "start_time": "2025-03-31T08:57:38.807997Z"
    }
   },
   "outputs": [],
   "source": [
    "with open(base_dir / \"data.yaml\", \"w\") as f:\n",
    "    f.write(f\"train: {'train/images'}\\nval: {'valid/images'}\\ntest: {'test/images'}\\n\")\n",
    "    f.write(f\"nc: {len(class_mapping)}\\nnames: {sorted(class_mapping, key=class_mapping.get)}\\n\")"
   ]
  },
  {
   "cell_type": "markdown",
   "id": "0f362d72",
   "metadata": {},
   "source": [
    "## Loading all images again"
   ]
  },
  {
   "cell_type": "code",
   "execution_count": null,
   "id": "35e04c37",
   "metadata": {},
   "outputs": [],
   "source": [
    "images = list(dataset_dir.glob(\"*.jpg\"))"
   ]
  },
  {
   "cell_type": "markdown",
   "id": "60e15187",
   "metadata": {},
   "source": [
    "## Splitting the data into 80% train, 10% validation and 10% test"
   ]
  },
  {
   "cell_type": "code",
   "execution_count": null,
   "id": "5104a802",
   "metadata": {},
   "outputs": [],
   "source": [
    "random.shuffle(images)\n",
    "splits = {\"train\": 0.8, \"valid\": 0.1, \"test\": 0.1}\n",
    "n = len(images)\n",
    "split_map = {\n",
    "    \"train\": images[:int(splits[\"train\"] * n)],\n",
    "    \"valid\": images[int(splits[\"train\"] * n):int((splits[\"train\"] + splits[\"valid\"]) * n)],\n",
    "    \"test\": images[int((splits[\"train\"] + splits[\"valid\"]) * n):]\n",
    "}"
   ]
  },
  {
   "cell_type": "markdown",
   "id": "2cd4ebc6ae31c618",
   "metadata": {},
   "source": [
    "## Removing the old database"
   ]
  },
  {
   "cell_type": "code",
   "execution_count": null,
   "id": "2394627f43db8cca",
   "metadata": {
    "ExecuteTime": {
     "end_time": "2025-03-31T08:58:28.230975Z",
     "start_time": "2025-03-31T08:58:20.112496Z"
    }
   },
   "outputs": [],
   "source": [
    "shutil.rmtree(\"Aircrafts\")"
   ]
  },
  {
   "cell_type": "code",
   "execution_count": null,
   "id": "4cf6bbd9",
   "metadata": {},
   "outputs": [],
   "source": [
    "class_mapping"
   ]
  }
 ],
 "metadata": {
  "kernelspec": {
   "display_name": "CNN",
   "language": "python",
   "name": "python3"
  },
  "language_info": {
   "codemirror_mode": {
    "name": "ipython",
    "version": 3
   },
   "file_extension": ".py",
   "mimetype": "text/x-python",
   "name": "python",
   "nbconvert_exporter": "python",
   "pygments_lexer": "ipython3",
   "version": "3.10.16"
  }
 },
 "nbformat": 4,
 "nbformat_minor": 5
}
