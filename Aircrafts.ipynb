{
 "cells": [
  {
   "cell_type": "markdown",
   "metadata": {},
   "source": [
    "## Installations"
   ]
  },
  {
   "cell_type": "code",
   "execution_count": null,
   "metadata": {
    "ExecuteTime": {
     "end_time": "2025-03-31T09:50:21.978588Z",
     "start_time": "2025-03-31T09:50:21.942588Z"
    }
   },
   "outputs": [],
   "source": [
    "\"\"\"\n",
    "conda create -n CNN python=3.10\n",
    "conda activate CNN\n",
    "conda install -c conda-forge cudatoolkit=11.2 cudnn=8.1.0\n",
    "python -m pip install \"tensorflow==2.10\"\n",
    "conda install Pillow\n",
    "conda install scipy\n",
    "conda install matplotlib\n",
    "conda install -c conda-forge opencv\n",
    "conda install pandas \n",
    "conda install scikit-learn\n",
    "conda install -c conda-forge kaggle\n",
    "conda install \"numpy<2\"\n",
    "\"\"\""
   ]
  },
  {
   "cell_type": "markdown",
   "metadata": {},
   "source": [
    "## Imports"
   ]
  },
  {
   "cell_type": "code",
   "execution_count": null,
   "metadata": {
    "ExecuteTime": {
     "end_time": "2025-03-31T09:50:22.071588Z",
     "start_time": "2025-03-31T09:50:22.058588Z"
    }
   },
   "outputs": [],
   "source": [
    "import os, cv2, torch, kaggle\n",
    "from pathlib import Path\n",
    "from ultralytics import YOLO"
   ]
  },
  {
   "cell_type": "markdown",
   "metadata": {},
   "source": [
    "### Downloading The Database"
   ]
  },
  {
   "cell_type": "code",
   "execution_count": null,
   "metadata": {
    "ExecuteTime": {
     "end_time": "2025-03-31T09:50:22.102571Z",
     "start_time": "2025-03-31T09:50:22.088563Z"
    }
   },
   "outputs": [],
   "source": [
    "if not os.path.exists(\"Dataset\"):\n",
    "    kaggle.api.dataset_download_files('lazercode/military-aircraft-dataset-prepared-for-yolo', path='Aircrafts', unzip=True)"
   ]
  },
  {
   "cell_type": "markdown",
   "metadata": {},
   "source": [
    "Pathes"
   ]
  },
  {
   "cell_type": "code",
   "execution_count": null,
   "metadata": {
    "ExecuteTime": {
     "end_time": "2025-03-31T09:50:22.133570Z",
     "start_time": "2025-03-31T09:50:22.119571Z"
    }
   },
   "outputs": [],
   "source": [
    "base_dir = Path(\"Dataset\")\n",
    "train_dir = base_dir / \"train\"\n",
    "valid_dir = base_dir / \"valid\"\n",
    "test_dir = base_dir / \"test\""
   ]
  },
  {
   "cell_type": "markdown",
   "metadata": {},
   "source": [
    "Using GPU"
   ]
  },
  {
   "cell_type": "markdown",
   "metadata": {},
   "source": [
    "## Yolo Network"
   ]
  },
  {
   "cell_type": "markdown",
   "metadata": {},
   "source": [
    "Using GPU"
   ]
  },
  {
   "cell_type": "code",
   "execution_count": null,
   "metadata": {},
   "outputs": [],
   "source": [
    "device = torch.device(\"cuda\" if torch.cuda.is_available() else \"cpu\")"
   ]
  },
  {
   "cell_type": "markdown",
   "metadata": {},
   "source": [
    "Pathes Definitions"
   ]
  },
  {
   "cell_type": "code",
   "execution_count": null,
   "metadata": {
    "ExecuteTime": {
     "end_time": "2025-03-31T09:50:22.164570Z",
     "start_time": "2025-03-31T09:50:22.150571Z"
    }
   },
   "outputs": [],
   "source": [
    "DATA_YAML = \"Dataset/data.yaml\"\n",
    "OUTPUT_DIR = \"Dataset/predictions\"\n",
    "os.makedirs(OUTPUT_DIR, exist_ok=True)"
   ]
  },
  {
   "cell_type": "markdown",
   "metadata": {},
   "source": [
    "Loading & Training The Model"
   ]
  },
  {
   "cell_type": "code",
   "execution_count": null,
   "metadata": {
    "ExecuteTime": {
     "end_time": "2025-03-31T09:50:25.156067Z",
     "start_time": "2025-03-31T09:50:22.244071Z"
    }
   },
   "outputs": [],
   "source": [
    "model = YOLO(model=\"yolo12m.pt\")"
   ]
  },
  {
   "cell_type": "code",
   "execution_count": null,
   "metadata": {
    "ExecuteTime": {
     "end_time": "2025-03-31T09:50:41.336345Z",
     "start_time": "2025-03-31T09:50:25.173067Z"
    }
   },
   "outputs": [],
   "source": [
    "if not os.path.exists(\"runs/detect/train/weights/best.pt\"):\n",
    "    model.train(data=DATA_YAML, epochs=20, batch=8, imgsz=640)"
   ]
  },
  {
   "cell_type": "code",
   "execution_count": null,
   "metadata": {},
   "outputs": [],
   "source": [
    "model = YOLO(\"runs/detect/train/weights/best.pt\")"
   ]
  },
  {
   "cell_type": "code",
   "execution_count": null,
   "metadata": {},
   "outputs": [],
   "source": [
    "model.predict(source=\"Dataset/test/images\", save=True, project=OUTPUT_DIR, name=\"results\")"
   ]
  },
  {
   "cell_type": "code",
   "execution_count": null,
   "metadata": {},
   "outputs": [],
   "source": [
    "\"\"\"\n",
    "import cv2\n",
    "import yt_dlp\n",
    "\n",
    "video_url = \"https://www.youtube.com/shorts/v2qpBQ9Nf4o\"\n",
    "video_path = \"video.mp4\"\n",
    "\n",
    "id = 1\n",
    "while os.path.exists(video_path):\n",
    "    video_path = f\"video{id}.mp4\"\n",
    "    id += 1\n",
    "\n",
    "ydl_opts = {\n",
    "    'format': 'bestvideo[ext=mp4]+bestaudio[ext=m4a]/mp4',\n",
    "    'outtmpl': video_path\n",
    "}\n",
    "\n",
    "with yt_dlp.YoutubeDL(ydl_opts) as ydl:\n",
    "    ydl.download([video_url])\n",
    "\n",
    "model = YOLO(\"runs/detect/train/weights/best.pt\")\n",
    "cap = cv2.VideoCapture(video_path)\n",
    "\n",
    "if not cap.isOpened():\n",
    "    print(\"Error: Unable to open video.\")\n",
    "    exit()\n",
    "\n",
    "fps = cap.get(cv2.CAP_PROP_FPS)\n",
    "frame_width = int(cap.get(cv2.CAP_PROP_FRAME_WIDTH))\n",
    "frame_height = int(cap.get(cv2.CAP_PROP_FRAME_HEIGHT))\n",
    "\n",
    "output_video_path = \"Aircrafts/output/video_output.mp4\"\n",
    "fourcc = cv2.VideoWriter_fourcc(*'mp4v')\n",
    "out = cv2.VideoWriter(output_video_path, fourcc, fps, (frame_width, frame_height))\n",
    "\n",
    "while cap.isOpened():\n",
    "    ret, frame = cap.read()\n",
    "    if not ret:\n",
    "        break\n",
    "    results = model(frame)\n",
    "    img = results[0].plot()\n",
    "    img_resized = cv2.resize(img, (frame_width, frame_height))\n",
    "    out.write(img_resized)\n",
    "    cv2.imshow(\"Detection\", img_resized)\n",
    "    if cv2.waitKey(1) & 0xFF == ord('q'):\n",
    "        break\n",
    "\n",
    "cap.release()\n",
    "out.release()\n",
    "cv2.destroyAllWindows()\n",
    "\n",
    "\"\"\""
   ]
  },
  {
   "cell_type": "code",
   "execution_count": null,
   "metadata": {},
   "outputs": [],
   "source": [
    "\"\"\"\n",
    "path = input(\"Enter image path: \").replace('\"', '')\n",
    "\n",
    "while os.path.exists(path):\n",
    "    results = model.predict(source=path)\n",
    "    img = results[0].plot()\n",
    "\n",
    "    cv2.imshow(\"Prediction\", img)\n",
    "    cv2.waitKey(0)\n",
    "    cv2.destroyAllWindows()\n",
    "\n",
    "    path = input(\"Enter image path: \").replace('\"', '')\"\"\""
   ]
  }
 ],
 "metadata": {
  "kernelspec": {
   "display_name": "Aircraft",
   "language": "python",
   "name": "python3"
  },
  "language_info": {
   "codemirror_mode": {
    "name": "ipython",
    "version": 3
   },
   "file_extension": ".py",
   "mimetype": "text/x-python",
   "name": "python",
   "nbconvert_exporter": "python",
   "pygments_lexer": "ipython3",
   "version": "3.10.16"
  }
 },
 "nbformat": 4,
 "nbformat_minor": 4
}
