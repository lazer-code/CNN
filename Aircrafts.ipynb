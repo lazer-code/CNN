{
 "cells": [
  {
   "cell_type": "markdown",
   "metadata": {},
   "source": [
    "## Installations"
   ]
  },
  {
   "cell_type": "code",
   "execution_count": null,
   "metadata": {
    "ExecuteTime": {
     "end_time": "2025-03-24T11:22:15.523776Z",
     "start_time": "2025-03-24T11:22:15.499776Z"
    }
   },
   "outputs": [],
   "source": [
    "\"\"\"\n",
    "conda create -n CNN python=3.10\n",
    "conda activate CNN\n",
    "conda install -c conda-forge cudatoolkit=11.2 cudnn=8.1.0\n",
    "python -m pip install \"tensorflow==2.10\"\n",
    "conda install Pillow\n",
    "conda install scipy\n",
    "conda install matplotlib\n",
    "conda install -c conda-forge opencv\n",
    "conda install pandas \n",
    "conda install scikit-learn\n",
    "conda install \"numpy<2\"\n",
    "\"\"\""
   ]
  },
  {
   "cell_type": "markdown",
   "metadata": {},
   "source": [
    "## Imports"
   ]
  },
  {
   "cell_type": "code",
   "execution_count": null,
   "metadata": {},
   "outputs": [],
   "source": [
    "import os, shutil, random, glob, pandas as pd, cv2\n",
    "from pathlib import Path\n",
    "from ultralytics import YOLO\n",
    "import torch"
   ]
  },
  {
   "cell_type": "markdown",
   "metadata": {},
   "source": [
    "## Creating the DB"
   ]
  },
  {
   "cell_type": "code",
   "execution_count": null,
   "metadata": {},
   "outputs": [],
   "source": [
    "base_dir = Path(\"Aircrafts\")\n",
    "dataset_dir = base_dir / \"dataset\"\n",
    "splits = {\"train\": 0.7, \"valid\": 0.2, \"test\": 0.1}\n",
    "\n",
    "if any((base_dir / split / \"images\").exists() and len(os.listdir(base_dir / split / \"images\")) > 0 for split in splits):\n",
    "    print(\"One of the folders already contains files. Aborting script.\")\n",
    "else:\n",
    "    for split in splits:\n",
    "        (base_dir / split / \"images\").mkdir(parents=True, exist_ok=True)\n",
    "        (base_dir / split / \"labels\").mkdir(parents=True, exist_ok=True)\n",
    "\n",
    "    images = list(dataset_dir.glob(\"*.jpg\"))\n",
    "    random.shuffle(images)\n",
    "    n = len(images)\n",
    "    train_end = int(splits[\"train\"] * n)\n",
    "    valid_end = train_end + int(splits[\"valid\"] * n)\n",
    "    split_map = {\n",
    "        \"train\": images[:train_end],\n",
    "        \"valid\": images[train_end:valid_end],\n",
    "        \"test\": images[valid_end:]\n",
    "    }\n",
    "\n",
    "    class_mapping = {}\n",
    "    next_id = 0\n",
    "    annotations = {}\n",
    "\n",
    "    for img_path in images:\n",
    "        csv_path = img_path.with_suffix(\".csv\")\n",
    "        if not csv_path.exists():\n",
    "            continue\n",
    "        df = pd.read_csv(csv_path)\n",
    "\n",
    "        im = cv2.imread(str(img_path))\n",
    "        if im is None:\n",
    "            continue\n",
    "        h, w = im.shape[:2]\n",
    "        lines = []\n",
    "        for _, row in df.iterrows():\n",
    "            label = str(row[\"class\"])\n",
    "            if label not in class_mapping:\n",
    "                class_mapping[label] = next_id\n",
    "                next_id += 1\n",
    "            cls = class_mapping[label]\n",
    "            xmin, ymin, xmax, ymax = row[\"xmin\"], row[\"ymin\"], row[\"xmax\"], row[\"ymax\"]\n",
    "            x_c = ((xmin + xmax) / 2) / w\n",
    "            y_c = ((ymin + ymax) / 2) / h\n",
    "            bw = (xmax - xmin) / w\n",
    "            bh = (ymax - ymin) / h\n",
    "            lines.append(f\"{cls} {x_c:.6f} {y_c:.6f} {bw:.6f} {bh:.6f}\")\n",
    "        annotations[img_path.name] = lines\n",
    "\n",
    "    for split, imgs in split_map.items():\n",
    "        for img_path in imgs:\n",
    "            dst_img = base_dir / split / \"images\" / img_path.name\n",
    "            shutil.copy(img_path, dst_img)\n",
    "            label_lines = annotations.get(img_path.name, [])\n",
    "            dst_label = base_dir / split / \"labels\" / (img_path.stem + \".txt\")\n",
    "            with open(dst_label, \"w\") as f:\n",
    "                f.write(\"\\n\".join(label_lines))\n",
    "\n",
    "    with open(base_dir / \"data.yaml\", \"w\") as f:\n",
    "        f.write(f\"train: {str((base_dir/'train'/'images').resolve())}\\n\")\n",
    "        f.write(f\"val: {str((base_dir/'valid'/'images').resolve())}\\n\")\n",
    "        f.write(\"test: \" + str((base_dir/'test'/'images').resolve()) + \"\\n\")\n",
    "        f.write(f\"nc: {len(class_mapping)}\\n\")\n",
    "        f.write(\"names: \" + str([k for k,v in sorted(class_mapping.items(), key=lambda x: x[1])]) + \"\\n\")"
   ]
  },
  {
   "cell_type": "markdown",
   "metadata": {},
   "source": [
    "## Yolo"
   ]
  },
  {
   "cell_type": "code",
   "execution_count": null,
   "metadata": {},
   "outputs": [],
   "source": [
    "import torch\n",
    "import cv2\n",
    "import os\n",
    "import shutil\n",
    "from ultralytics import YOLO\n",
    "from pathlib import Path"
   ]
  },
  {
   "cell_type": "code",
   "execution_count": null,
   "metadata": {},
   "outputs": [],
   "source": [
    "data_yaml = \"Aircrafts/data.yaml\"\n",
    "output_dir = \"Aircrafts/output\"\n",
    "test_images = \"Aircrafts/test/images\"\n",
    "test_labels = \"Aircrafts/test/labels\""
   ]
  },
  {
   "cell_type": "markdown",
   "metadata": {},
   "source": [
    "Creating output folder"
   ]
  },
  {
   "cell_type": "code",
   "execution_count": null,
   "metadata": {},
   "outputs": [],
   "source": [
    "os.makedirs(output_dir, exist_ok=True)"
   ]
  },
  {
   "cell_type": "markdown",
   "metadata": {},
   "source": [
    "Using GPU"
   ]
  },
  {
   "cell_type": "code",
   "execution_count": null,
   "metadata": {},
   "outputs": [],
   "source": [
    "device = \"cuda\" if torch.cuda.is_available() else \"cpu\"  # Automatically select GPU or CPU\n"
   ]
  },
  {
   "cell_type": "markdown",
   "metadata": {},
   "source": [
    "Loading & Training The Model"
   ]
  },
  {
   "cell_type": "code",
   "execution_count": null,
   "metadata": {},
   "outputs": [],
   "source": [
    "model = YOLO(\"Aircrafts/yolov5su.pt\")  # Load improved pre-trained model\n",
    "\n",
    "if not os.path.exists(\"Aircrafts/aircrafts.pt\"):\n",
    "    model.train(data=data_yaml, epochs=50, imgsz=416, name=\"Aircrafts\", device=device, amp=False)"
   ]
  },
  {
   "cell_type": "markdown",
   "metadata": {},
   "source": [
    "Tuning The Model"
   ]
  },
  {
   "cell_type": "code",
   "execution_count": null,
   "metadata": {},
   "outputs": [],
   "source": [
    "model.tune(data=data_yaml, epochs=10, imgsz=640)"
   ]
  },
  {
   "cell_type": "markdown",
   "metadata": {},
   "source": [
    "Loading Last Weights"
   ]
  },
  {
   "cell_type": "code",
   "execution_count": null,
   "metadata": {},
   "outputs": [],
   "source": [
    "best_model_path = \"runs/detect/Aircrafts/weights/best.pt\"\n",
    "model = YOLO(best_model_path)"
   ]
  },
  {
   "cell_type": "code",
   "execution_count": null,
   "metadata": {},
   "outputs": [],
   "source": [
    "\n",
    "# Load best model after training\n",
    "\n",
    "\n",
    "# Run inference on test images\n",
    "results = model(test_images, save=True, save_txt=True, project=output_dir, name=\"test_results\", device=device, conf=0.4)  # Use GPU\n",
    "\n",
    "# Add aircraft type next to bounding boxes\n",
    "def draw_boxes_with_labels(image_path, label_path, output_path):\n",
    "    try:\n",
    "        image = cv2.imread(image_path)\n",
    "        height, width, _ = image.shape\n",
    "        \n",
    "        with open(label_path, \"r\") as f:\n",
    "            labels = f.readlines()\n",
    "        \n",
    "        for label in labels:\n",
    "            parts = label.strip().split()\n",
    "            class_id = int(parts[0])\n",
    "            x_center, y_center, w, h = map(float, parts[1:])\n",
    "            x1 = int((x_center - w / 2) * width)\n",
    "            y1 = int((y_center - h / 2) * height)\n",
    "            x2 = int((x_center + w / 2) * width)\n",
    "            y2 = int((y_center + h / 2) * height)\n",
    "            \n",
    "            cv2.rectangle(image, (x1, y1), (x2, y2), (0, 255, 0), 2)\n",
    "            cv2.putText(image, f\"Aircraft {class_id}\", (x1, y1 - 10), cv2.FONT_HERSHEY_SIMPLEX, 0.5, (0, 255, 0), 2)\n",
    "        \n",
    "        cv2.imwrite(output_path, image)\n",
    "    except Exception as e:\n",
    "        print(f\"Error processing {image_path}: {e}\")\n",
    "\n",
    "# Process test images\n",
    "test_images_list = list(Path(test_images).glob(\"*.jpg\"))\n",
    "for image_path in test_images_list:\n",
    "    label_path = Path(test_labels) / (image_path.stem + \".txt\")\n",
    "    output_path = Path(output_dir) / image_path.name\n",
    "    if label_path.exists():\n",
    "        draw_boxes_with_labels(str(image_path), str(label_path), str(output_path))\n",
    "    else:\n",
    "        shutil.copy(str(image_path), str(output_path))  # Copy image if no labels exist\n",
    "\n",
    "print(\"Processing complete. Check 'Aircrafts/output' for results.\")"
   ]
  }
 ],
 "metadata": {
  "kernelspec": {
   "display_name": "Aircraft",
   "language": "python",
   "name": "python3"
  },
  "language_info": {
   "codemirror_mode": {
    "name": "ipython",
    "version": 3
   },
   "file_extension": ".py",
   "mimetype": "text/x-python",
   "name": "python",
   "nbconvert_exporter": "python",
   "pygments_lexer": "ipython3",
   "version": "3.10.16"
  }
 },
 "nbformat": 4,
 "nbformat_minor": 4
}
