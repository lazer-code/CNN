{
 "cells": [
  {
   "cell_type": "markdown",
   "metadata": {},
   "source": [
    "## Installations"
   ]
  },
  {
   "cell_type": "code",
   "execution_count": null,
   "metadata": {},
   "outputs": [],
   "source": [
    "\"\"\"\n",
    "conda create -n YOLO python=3.13 -y\n",
    "conda activate YOLO\n",
    "pip3 install torch torchvision torchaudio --index-url https://download.pytorch.org/whl/cu128\n",
    "pip install kagglehub ultralytics\n",
    "\"\"\""
   ]
  },
  {
   "cell_type": "markdown",
   "metadata": {},
   "source": [
    "## Imports"
   ]
  },
  {
   "cell_type": "code",
   "execution_count": null,
   "metadata": {
    "ExecuteTime": {
     "end_time": "2025-04-30T13:31:18.062716Z",
     "start_time": "2025-04-30T13:31:14.576937Z"
    }
   },
   "outputs": [],
   "source": [
    "import os, torch, shutil, kagglehub\n",
    "from ultralytics import YOLO"
   ]
  },
  {
   "cell_type": "markdown",
   "metadata": {},
   "source": [
    "### Downloading The Database"
   ]
  },
  {
   "cell_type": "code",
   "execution_count": null,
   "metadata": {
    "ExecuteTime": {
     "end_time": "2025-04-30T13:31:18.074206Z",
     "start_time": "2025-04-30T13:31:18.071169Z"
    }
   },
   "outputs": [],
   "source": [
    "if not os.path.exists(\"Dataset\"):\n",
    "    src = kagglehub.dataset_download(\"lazercode/military-aircraft-dataset-prepared-for-yolo\")\n",
    "    shutil.move(src, \"Dataset\")"
   ]
  },
  {
   "cell_type": "markdown",
   "metadata": {},
   "source": [
    "## Yolo Network"
   ]
  },
  {
   "cell_type": "markdown",
   "metadata": {},
   "source": [
    "Using GPU"
   ]
  },
  {
   "cell_type": "code",
   "execution_count": null,
   "metadata": {
    "ExecuteTime": {
     "end_time": "2025-04-30T13:31:18.159396Z",
     "start_time": "2025-04-30T13:31:18.131242Z"
    }
   },
   "outputs": [],
   "source": [
    "device = torch.device(\"cuda\" if torch.cuda.is_available() else \"cpu\")\n",
    "device"
   ]
  },
  {
   "cell_type": "markdown",
   "metadata": {},
   "source": [
    "Pathes Definitions"
   ]
  },
  {
   "cell_type": "code",
   "execution_count": null,
   "metadata": {
    "ExecuteTime": {
     "end_time": "2025-04-30T13:31:18.174076Z",
     "start_time": "2025-04-30T13:31:18.169964Z"
    }
   },
   "outputs": [],
   "source": [
    "DATA_YAML = \"Dataset/data.yaml\"\n",
    "OUTPUT_DIR = \"Dataset/predictions\"\n",
    "os.makedirs(OUTPUT_DIR, exist_ok=True)"
   ]
  },
  {
   "cell_type": "markdown",
   "metadata": {},
   "source": [
    "Loading & Training The Model"
   ]
  },
  {
   "cell_type": "code",
   "execution_count": null,
   "metadata": {
    "ExecuteTime": {
     "end_time": "2025-04-30T13:31:18.339366Z",
     "start_time": "2025-04-30T13:31:18.187212Z"
    }
   },
   "outputs": [],
   "source": [
    "model = YOLO(\"yolo12m.pt\")"
   ]
  },
  {
   "cell_type": "code",
   "execution_count": null,
   "metadata": {},
   "outputs": [],
   "source": [
    "if not os.path.exists(\"runs/detect/train/weights/best.pt\"):\n",
    "    torch.cuda.empty_cache()\n",
    "    model.train(\n",
    "        data=DATA_YAML,\n",
    "        epochs=30,\n",
    "        batch=8,\n",
    "        imgsz=640,\n",
    "        device=device,\n",
    "        degrees=10,\n",
    "        translate=0.1,\n",
    "        scale=0.5,\n",
    "        shear=5,\n",
    "        perspective=0.0005,\n",
    "        flipud=0.5,\n",
    "        fliplr=0.5,\n",
    "        mosaic=1.0,\n",
    "        mixup=0.2,\n",
    "        copy_paste=0.1\n",
    "    )\n"
   ]
  },
  {
   "cell_type": "markdown",
   "metadata": {},
   "source": [
    "## Validation"
   ]
  },
  {
   "cell_type": "code",
   "execution_count": null,
   "metadata": {},
   "outputs": [],
   "source": [
    "res = model.val(data=DATA_YAML)\n",
    "print(f\"Validation results: {res}\")"
   ]
  },
  {
   "cell_type": "markdown",
   "metadata": {},
   "source": [
    "## Test"
   ]
  },
  {
   "cell_type": "code",
   "execution_count": null,
   "metadata": {},
   "outputs": [],
   "source": [
    "res = model.val(data=DATA_YAML, task='val')\n",
    "print(f\"Test results: {res}\")"
   ]
  }
 ],
 "metadata": {
  "kernelspec": {
   "display_name": "Python 3",
   "language": "python",
   "name": "python3"
  },
  "language_info": {
   "codemirror_mode": {
    "name": "ipython",
    "version": 3
   },
   "file_extension": ".py",
   "mimetype": "text/x-python",
   "name": "python",
   "nbconvert_exporter": "python",
   "pygments_lexer": "ipython3",
   "version": "3.13.3"
  }
 },
 "nbformat": 4,
 "nbformat_minor": 4
}
