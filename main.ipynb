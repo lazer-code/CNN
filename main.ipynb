{
 "cells": [
  {
   "cell_type": "markdown",
   "metadata": {},
   "source": "## Imports"
  },
  {
   "cell_type": "code",
   "metadata": {
    "ExecuteTime": {
     "end_time": "2025-03-12T12:27:18.688212Z",
     "start_time": "2025-03-12T12:27:18.680454Z"
    }
   },
   "source": [
    "from tensorflow import keras\n",
    "from tensorflow.keras import layers\n",
    "from tensorflow.keras.preprocessing import image_dataset_from_directory\n",
    "import tensorflow as tf\n",
    "import matplotlib.pyplot as plt\n",
    "import numpy as np\n",
    "import os\n",
    "from PIL import Image\n",
    "from tensorflow.keras.preprocessing.image import ImageDataGenerator"
   ],
   "outputs": [],
   "execution_count": 9
  },
  {
   "cell_type": "markdown",
   "metadata": {},
   "source": "## Enabling GPU"
  },
  {
   "cell_type": "code",
   "metadata": {
    "ExecuteTime": {
     "end_time": "2025-03-12T12:27:18.703991Z",
     "start_time": "2025-03-12T12:27:18.692224Z"
    }
   },
   "source": [
    "gpus = tf.config.experimental.list_physical_devices('GPU')\n",
    "if gpus:\n",
    "    tf.config.experimental.set_virtual_device_configuration(gpus[0], [tf.config.experimental.VirtualDeviceConfiguration(memory_limit=10240)])"
   ],
   "outputs": [],
   "execution_count": 10
  },
  {
   "cell_type": "markdown",
   "metadata": {},
   "source": "## Getting database"
  },
  {
   "cell_type": "code",
   "metadata": {
    "ExecuteTime": {
     "end_time": "2025-03-12T12:27:18.735545Z",
     "start_time": "2025-03-12T12:27:18.719768Z"
    }
   },
   "source": [
    "model_path = \"All-Animals.keras\"\n",
    "model_exists = os.path.exists(model_path)\n",
    "\n",
    "retrain = False\n",
    "train = \"All-Animals/Training Data\"\n",
    "valid = \"All-Animals/Validation Data\"\n",
    "test = \"All-Animals/Testing Data\""
   ],
   "outputs": [],
   "execution_count": 11
  },
  {
   "metadata": {},
   "cell_type": "markdown",
   "source": "## Recreating Dataset"
  },
  {
   "metadata": {
    "ExecuteTime": {
     "end_time": "2025-03-12T12:27:18.767100Z",
     "start_time": "2025-03-12T12:27:18.751322Z"
    }
   },
   "cell_type": "code",
   "source": [
    "if recreate:\n",
    "    for path in [train, valid, test]:\n",
    "        for root, dirs, files in os.walk(path):\n",
    "            for index, file in enumerate(files):\n",
    "                if file.lower().endswith(('.jpg', '.jpeg')):\n",
    "                    old_path = os.path.join(root, file)\n",
    "                    img = Image.open(old_path)\n",
    "                    new_filename = f\"{os.path.basename(root)}_{index + 1}.jpeg\"\n",
    "                    new_path = os.path.join(root, new_filename)\n",
    "                    img.save(new_path, 'JPEG')\n",
    "                    os.remove(old_path)\n",
    "\n",
    "augmented_root = os.path.join(os.path.dirname(train), \"Augmented Photos\")"
   ],
   "outputs": [],
   "execution_count": 12
  },
  {
   "metadata": {},
   "cell_type": "markdown",
   "source": "## Augmenting pictures"
  },
  {
   "metadata": {
    "ExecuteTime": {
     "end_time": "2025-03-12T12:27:18.802267Z",
     "start_time": "2025-03-12T12:27:18.782878Z"
    }
   },
   "cell_type": "code",
   "source": [
    "if recreate:\n",
    "    for root, dirs, files in os.walk(train):\n",
    "        parent_folder = os.path.basename(root)\n",
    "        augmented_folder = os.path.join(augmented_root, parent_folder)\n",
    "        os.makedirs(augmented_folder, exist_ok=True)\n",
    "\n",
    "        for file in files:\n",
    "            path = os.path.join(root, file.lower())\n",
    "            if '_aug_' not in path:\n",
    "                img = np.array(Image.open(path))\n",
    "                datagen = ImageDataGenerator(rotation_range=30, width_shift_range=0.2, height_shift_range=0.2, shear_range=0.2, zoom_range=0.3, horizontal_flip=True, brightness_range=[0.8, 1.2])\n",
    "                augmented_images = [next(datagen.flow(np.expand_dims(img, 0), batch_size=1))[0] for _ in range(100)]\n",
    "                to = 4 if path.endswith(\".jpg\") else 5 if path.endswith(\".jpeg\") else 1\n",
    "                for i, aug_img in enumerate(augmented_images):\n",
    "                    aug_img_path = os.path.join(augmented_folder, f\"{file[:-to]}_aug_{i+1}.jpeg\")\n",
    "                    Image.fromarray(aug_img.astype(\"uint8\")).save(aug_img_path)\n",
    "\n",
    "train = augmented_root"
   ],
   "outputs": [],
   "execution_count": 13
  },
  {
   "cell_type": "markdown",
   "metadata": {},
   "source": "## Dataset Loading"
  },
  {
   "cell_type": "code",
   "metadata": {
    "jupyter": {
     "is_executing": true
    },
    "ExecuteTime": {
     "start_time": "2025-03-12T12:27:18.820053Z"
    }
   },
   "source": [
    "img_size = (299, 299)\n",
    "batch_size = 32\n",
    "\n",
    "def preprocess(image, label):\n",
    "    return tf.image.random_contrast(tf.image.random_brightness(image, 0.2), 0.8, 1.2), label\n",
    "\n",
    "train_ds = image_dataset_from_directory(train, image_size=img_size, batch_size=batch_size).map(preprocess)\n",
    "val_ds = image_dataset_from_directory(valid, image_size=img_size, batch_size=batch_size)\n",
    "test_ds = image_dataset_from_directory(test, image_size=img_size, batch_size=batch_size)\n",
    "\n",
    "class_names = train_ds.class_names"
   ],
   "outputs": [],
   "execution_count": null
  },
  {
   "cell_type": "markdown",
   "metadata": {},
   "source": "## Model Definition"
  },
  {
   "cell_type": "code",
   "metadata": {
    "ExecuteTime": {
     "end_time": "2025-03-12T11:34:22.424651Z",
     "start_time": "2025-03-12T08:57:21.878384Z"
    }
   },
   "source": [
    "with tf.device('/GPU:0'):\n",
    "    if not retrain:\n",
    "        model = keras.Sequential([\n",
    "            layers.Rescaling(1./255, input_shape=(256, 256, 3)),\n",
    "            layers.Conv2D(32, (3, 3), activation='relu'),\n",
    "            layers.MaxPooling2D(),\n",
    "            layers.Conv2D(64, (3, 3), activation='relu'),\n",
    "            layers.MaxPooling2D(),\n",
    "            layers.Conv2D(128, (3, 3), activation='relu'),\n",
    "            layers.MaxPooling2D(),\n",
    "            layers.Flatten(),\n",
    "            layers.Dense(128, activation='relu'),\n",
    "            layers.Dense(len(class_names), activation='softmax')\n",
    "        ])\n",
    "        model.compile(optimizer='adam', loss='sparse_categorical_crossentropy', metrics=['accuracy'])\n",
    "\n",
    "    epochs = 20\n",
    "    history = model.fit(train_ds, validation_data=val_ds, epochs=epochs)\n",
    "    model.save(model_path)"
   ],
   "outputs": [
    {
     "name": "stdout",
     "output_type": "stream",
     "text": [
      "Downloading data from https://storage.googleapis.com/keras-applications/efficientnetb0_notop.h5\n",
      "16705208/16705208 [==============================] - 2s 0us/step\n",
      "Epoch 1/20\n",
      "17885/17885 [==============================] - 1569s 87ms/step - loss: 2.7101 - accuracy: 0.0685 - val_loss: 2.7046 - val_accuracy: 0.0672 - lr: 0.0010\n",
      "Epoch 2/20\n",
      "17885/17885 [==============================] - 1558s 87ms/step - loss: 2.7060 - accuracy: 0.0687 - val_loss: 2.7046 - val_accuracy: 0.0672 - lr: 0.0010\n",
      "Epoch 3/20\n",
      "17885/17885 [==============================] - 1560s 87ms/step - loss: 2.7060 - accuracy: 0.0687 - val_loss: 2.7048 - val_accuracy: 0.0672 - lr: 0.0010\n",
      "Epoch 4/20\n",
      "17885/17885 [==============================] - 1580s 88ms/step - loss: 2.7060 - accuracy: 0.0686 - val_loss: 2.7048 - val_accuracy: 0.0672 - lr: 0.0010\n",
      "Epoch 5/20\n",
      "17885/17885 [==============================] - 1574s 88ms/step - loss: 2.7059 - accuracy: 0.0683 - val_loss: 2.7051 - val_accuracy: 0.0672 - lr: 5.0000e-04\n",
      "Epoch 6/20\n",
      "17885/17885 [==============================] - 1575s 88ms/step - loss: 2.7059 - accuracy: 0.0686 - val_loss: 2.7051 - val_accuracy: 0.0672 - lr: 5.0000e-04\n"
     ]
    },
    {
     "ename": "TypeError",
     "evalue": "Unable to serialize [2.0896919 2.1128857 2.1081853] to JSON. Unrecognized type <class 'tensorflow.python.framework.ops.EagerTensor'>.",
     "output_type": "error",
     "traceback": [
      "\u001B[1;31m---------------------------------------------------------------------------\u001B[0m",
      "\u001B[1;31mTypeError\u001B[0m                                 Traceback (most recent call last)",
      "Cell \u001B[1;32mIn[8], line 20\u001B[0m\n\u001B[0;32m     18\u001B[0m epochs \u001B[38;5;241m=\u001B[39m \u001B[38;5;241m20\u001B[39m\n\u001B[0;32m     19\u001B[0m history \u001B[38;5;241m=\u001B[39m model\u001B[38;5;241m.\u001B[39mfit(train_ds, validation_data\u001B[38;5;241m=\u001B[39mval_ds, epochs\u001B[38;5;241m=\u001B[39mepochs, callbacks\u001B[38;5;241m=\u001B[39m[lr_scheduler, early_stopping])\n\u001B[1;32m---> 20\u001B[0m \u001B[43mmodel\u001B[49m\u001B[38;5;241;43m.\u001B[39;49m\u001B[43msave\u001B[49m\u001B[43m(\u001B[49m\u001B[43mmodel_path\u001B[49m\u001B[43m)\u001B[49m\n",
      "File \u001B[1;32m~\\.conda\\envs\\CUDA_ENV\\lib\\site-packages\\keras\\utils\\traceback_utils.py:70\u001B[0m, in \u001B[0;36mfilter_traceback.<locals>.error_handler\u001B[1;34m(*args, **kwargs)\u001B[0m\n\u001B[0;32m     67\u001B[0m     filtered_tb \u001B[38;5;241m=\u001B[39m _process_traceback_frames(e\u001B[38;5;241m.\u001B[39m__traceback__)\n\u001B[0;32m     68\u001B[0m     \u001B[38;5;66;03m# To get the full stack trace, call:\u001B[39;00m\n\u001B[0;32m     69\u001B[0m     \u001B[38;5;66;03m# `tf.debugging.disable_traceback_filtering()`\u001B[39;00m\n\u001B[1;32m---> 70\u001B[0m     \u001B[38;5;28;01mraise\u001B[39;00m e\u001B[38;5;241m.\u001B[39mwith_traceback(filtered_tb) \u001B[38;5;28;01mfrom\u001B[39;00m \u001B[38;5;28;01mNone\u001B[39;00m\n\u001B[0;32m     71\u001B[0m \u001B[38;5;28;01mfinally\u001B[39;00m:\n\u001B[0;32m     72\u001B[0m     \u001B[38;5;28;01mdel\u001B[39;00m filtered_tb\n",
      "File \u001B[1;32m~\\.conda\\envs\\CUDA_ENV\\lib\\json\\__init__.py:238\u001B[0m, in \u001B[0;36mdumps\u001B[1;34m(obj, skipkeys, ensure_ascii, check_circular, allow_nan, cls, indent, separators, default, sort_keys, **kw)\u001B[0m\n\u001B[0;32m    232\u001B[0m \u001B[38;5;28;01mif\u001B[39;00m \u001B[38;5;28mcls\u001B[39m \u001B[38;5;129;01mis\u001B[39;00m \u001B[38;5;28;01mNone\u001B[39;00m:\n\u001B[0;32m    233\u001B[0m     \u001B[38;5;28mcls\u001B[39m \u001B[38;5;241m=\u001B[39m JSONEncoder\n\u001B[0;32m    234\u001B[0m \u001B[38;5;28;01mreturn\u001B[39;00m \u001B[38;5;28;43mcls\u001B[39;49m\u001B[43m(\u001B[49m\n\u001B[0;32m    235\u001B[0m \u001B[43m    \u001B[49m\u001B[43mskipkeys\u001B[49m\u001B[38;5;241;43m=\u001B[39;49m\u001B[43mskipkeys\u001B[49m\u001B[43m,\u001B[49m\u001B[43m \u001B[49m\u001B[43mensure_ascii\u001B[49m\u001B[38;5;241;43m=\u001B[39;49m\u001B[43mensure_ascii\u001B[49m\u001B[43m,\u001B[49m\n\u001B[0;32m    236\u001B[0m \u001B[43m    \u001B[49m\u001B[43mcheck_circular\u001B[49m\u001B[38;5;241;43m=\u001B[39;49m\u001B[43mcheck_circular\u001B[49m\u001B[43m,\u001B[49m\u001B[43m \u001B[49m\u001B[43mallow_nan\u001B[49m\u001B[38;5;241;43m=\u001B[39;49m\u001B[43mallow_nan\u001B[49m\u001B[43m,\u001B[49m\u001B[43m \u001B[49m\u001B[43mindent\u001B[49m\u001B[38;5;241;43m=\u001B[39;49m\u001B[43mindent\u001B[49m\u001B[43m,\u001B[49m\n\u001B[0;32m    237\u001B[0m \u001B[43m    \u001B[49m\u001B[43mseparators\u001B[49m\u001B[38;5;241;43m=\u001B[39;49m\u001B[43mseparators\u001B[49m\u001B[43m,\u001B[49m\u001B[43m \u001B[49m\u001B[43mdefault\u001B[49m\u001B[38;5;241;43m=\u001B[39;49m\u001B[43mdefault\u001B[49m\u001B[43m,\u001B[49m\u001B[43m \u001B[49m\u001B[43msort_keys\u001B[49m\u001B[38;5;241;43m=\u001B[39;49m\u001B[43msort_keys\u001B[49m\u001B[43m,\u001B[49m\n\u001B[1;32m--> 238\u001B[0m \u001B[43m    \u001B[49m\u001B[38;5;241;43m*\u001B[39;49m\u001B[38;5;241;43m*\u001B[39;49m\u001B[43mkw\u001B[49m\u001B[43m)\u001B[49m\u001B[38;5;241;43m.\u001B[39;49m\u001B[43mencode\u001B[49m\u001B[43m(\u001B[49m\u001B[43mobj\u001B[49m\u001B[43m)\u001B[49m\n",
      "File \u001B[1;32m~\\.conda\\envs\\CUDA_ENV\\lib\\json\\encoder.py:199\u001B[0m, in \u001B[0;36mJSONEncoder.encode\u001B[1;34m(self, o)\u001B[0m\n\u001B[0;32m    195\u001B[0m         \u001B[38;5;28;01mreturn\u001B[39;00m encode_basestring(o)\n\u001B[0;32m    196\u001B[0m \u001B[38;5;66;03m# This doesn't pass the iterator directly to ''.join() because the\u001B[39;00m\n\u001B[0;32m    197\u001B[0m \u001B[38;5;66;03m# exceptions aren't as detailed.  The list call should be roughly\u001B[39;00m\n\u001B[0;32m    198\u001B[0m \u001B[38;5;66;03m# equivalent to the PySequence_Fast that ''.join() would do.\u001B[39;00m\n\u001B[1;32m--> 199\u001B[0m chunks \u001B[38;5;241m=\u001B[39m \u001B[38;5;28;43mself\u001B[39;49m\u001B[38;5;241;43m.\u001B[39;49m\u001B[43miterencode\u001B[49m\u001B[43m(\u001B[49m\u001B[43mo\u001B[49m\u001B[43m,\u001B[49m\u001B[43m \u001B[49m\u001B[43m_one_shot\u001B[49m\u001B[38;5;241;43m=\u001B[39;49m\u001B[38;5;28;43;01mTrue\u001B[39;49;00m\u001B[43m)\u001B[49m\n\u001B[0;32m    200\u001B[0m \u001B[38;5;28;01mif\u001B[39;00m \u001B[38;5;129;01mnot\u001B[39;00m \u001B[38;5;28misinstance\u001B[39m(chunks, (\u001B[38;5;28mlist\u001B[39m, \u001B[38;5;28mtuple\u001B[39m)):\n\u001B[0;32m    201\u001B[0m     chunks \u001B[38;5;241m=\u001B[39m \u001B[38;5;28mlist\u001B[39m(chunks)\n",
      "File \u001B[1;32m~\\.conda\\envs\\CUDA_ENV\\lib\\json\\encoder.py:257\u001B[0m, in \u001B[0;36mJSONEncoder.iterencode\u001B[1;34m(self, o, _one_shot)\u001B[0m\n\u001B[0;32m    252\u001B[0m \u001B[38;5;28;01melse\u001B[39;00m:\n\u001B[0;32m    253\u001B[0m     _iterencode \u001B[38;5;241m=\u001B[39m _make_iterencode(\n\u001B[0;32m    254\u001B[0m         markers, \u001B[38;5;28mself\u001B[39m\u001B[38;5;241m.\u001B[39mdefault, _encoder, \u001B[38;5;28mself\u001B[39m\u001B[38;5;241m.\u001B[39mindent, floatstr,\n\u001B[0;32m    255\u001B[0m         \u001B[38;5;28mself\u001B[39m\u001B[38;5;241m.\u001B[39mkey_separator, \u001B[38;5;28mself\u001B[39m\u001B[38;5;241m.\u001B[39mitem_separator, \u001B[38;5;28mself\u001B[39m\u001B[38;5;241m.\u001B[39msort_keys,\n\u001B[0;32m    256\u001B[0m         \u001B[38;5;28mself\u001B[39m\u001B[38;5;241m.\u001B[39mskipkeys, _one_shot)\n\u001B[1;32m--> 257\u001B[0m \u001B[38;5;28;01mreturn\u001B[39;00m \u001B[43m_iterencode\u001B[49m\u001B[43m(\u001B[49m\u001B[43mo\u001B[49m\u001B[43m,\u001B[49m\u001B[43m \u001B[49m\u001B[38;5;241;43m0\u001B[39;49m\u001B[43m)\u001B[49m\n",
      "\u001B[1;31mTypeError\u001B[0m: Unable to serialize [2.0896919 2.1128857 2.1081853] to JSON. Unrecognized type <class 'tensorflow.python.framework.ops.EagerTensor'>."
     ]
    }
   ],
   "execution_count": 8
  },
  {
   "cell_type": "markdown",
   "metadata": {},
   "source": "## Test"
  },
  {
   "cell_type": "code",
   "metadata": {},
   "source": [
    "loss, accuracy = model.evaluate(test_ds)\n",
    "print(f'Test Accuracy: {accuracy:.4f}')\n",
    "\n",
    "\n",
    "predictions = model.predict(test_ds)\n",
    "pred_labels = np.argmax(predictions, axis=1)\n",
    "\n",
    "true_labels = np.concatenate([y.numpy() for _, y in test_ds], axis=0)\n",
    "\n",
    "misclassified_indices = np.where(pred_labels != true_labels)[0]\n",
    "\n",
    "num_images = min(10, len(misclassified_indices))\n",
    "fig, axes = plt.subplots(1, num_images, figsize=(15, 5))\n",
    "\n",
    "for i, idx in enumerate(misclassified_indices[:num_images]):\n",
    "    img, _ = list(test_ds)[idx]\n",
    "    axes[i].imshow(img.numpy().astype(\"uint8\"))\n",
    "    axes[i].axis(\"off\")\n",
    "    axes[i].set_title(f\"True: {true_labels[idx]}, Pred: {pred_labels[idx]}\")\n",
    "\n",
    "plt.show()"
   ],
   "outputs": [],
   "execution_count": null
  }
 ],
 "metadata": {
  "kernelspec": {
   "display_name": "tf_env",
   "language": "python",
   "name": "python3"
  },
  "language_info": {
   "codemirror_mode": {
    "name": "ipython",
    "version": 3
   },
   "file_extension": ".py",
   "mimetype": "text/x-python",
   "name": "python",
   "nbconvert_exporter": "python",
   "pygments_lexer": "ipython3",
   "version": "3.10.16"
  }
 },
 "nbformat": 4,
 "nbformat_minor": 2
}
